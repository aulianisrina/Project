{
  "nbformat": 4,
  "nbformat_minor": 0,
  "metadata": {
    "colab": {
      "provenance": []
    },
    "kernelspec": {
      "name": "python3",
      "display_name": "Python 3"
    },
    "language_info": {
      "name": "python"
    }
  },
  "cells": [
    {
      "cell_type": "markdown",
      "source": [
        "Nama Anggota Kelompok E:\n",
        "- Aulia Nisrina Rosanita / 2206051380\n",
        "- Angelia Huwinata / 2206051595\n",
        "- Renata Shaula Alfino Ritonga / 2206815812\n",
        "- Amira Shohifa / 2206829130\n",
        "- Zavier Raiyan Dana / 2206829875"
      ],
      "metadata": {
        "id": "7gLU4h8l-kBb"
      }
    },
    {
      "cell_type": "markdown",
      "source": [
        "## Import Packages"
      ],
      "metadata": {
        "id": "IDljJrBMcE86"
      }
    },
    {
      "cell_type": "code",
      "source": [
        "#Import library yang diperlukan\n",
        "import pandas as pd\n",
        "import numpy as np\n",
        "import matplotlib.pyplot as plt\n",
        "import seaborn as sns\n",
        "import random\n",
        "import scipy as sp\n",
        "from scipy import stats\n",
        "from math import fsum, sqrt\n",
        "from timeit import default_timer as timer\n",
        "\n",
        "import matplotlib.gridspec as gridspec\n",
        "from pandas.api.types import CategoricalDtype\n",
        "%matplotlib inline"
      ],
      "metadata": {
        "id": "ZHtRI4eMOW7S"
      },
      "execution_count": 1,
      "outputs": []
    },
    {
      "cell_type": "markdown",
      "source": [
        "## Import Dataset"
      ],
      "metadata": {
        "id": "jz1UJHm6cIpi"
      }
    },
    {
      "cell_type": "code",
      "source": [
        "from pydrive.auth import GoogleAuth\n",
        "from pydrive.drive import GoogleDrive\n",
        "from google.colab import auth\n",
        "from oauth2client.client import GoogleCredentials\n",
        "\n",
        "\n",
        "auth.authenticate_user()\n",
        "gauth = GoogleAuth()\n",
        "gauth.credentials = GoogleCredentials.get_application_default()\n",
        "drive = GoogleDrive(gauth)"
      ],
      "metadata": {
        "colab": {
          "base_uri": "https://localhost:8080/"
        },
        "id": "ddoZ5MosD-19",
        "outputId": "23c5cbaf-229c-4a3a-9249-d579fa2d2c0e"
      },
      "execution_count": 2,
      "outputs": [
        {
          "output_type": "stream",
          "name": "stderr",
          "text": [
            "WARNING:root:pydrive is deprecated and no longer maintained. We recommend that you migrate your projects to pydrive2, the maintained fork of pydrive\n"
          ]
        }
      ]
    },
    {
      "cell_type": "code",
      "source": [
        "link = 'https://drive.google.com/file/d/16OtLnKSv5z9mD-yE7EPfS09C1oUPGmXJ/view'\n",
        "\n",
        "id = link.split(\"/\")[-2]\n",
        "\n",
        "downloaded = drive.CreateFile({'id':id})\n",
        "downloaded.GetContentFile('data_kesehatan-Mental-SRQ-2023--Filtered.csv')\n",
        "\n",
        "data = pd.read_csv('data_kesehatan-Mental-SRQ-2023--Filtered.csv')"
      ],
      "metadata": {
        "colab": {
          "base_uri": "https://localhost:8080/"
        },
        "id": "IKWqsdXVEB2K",
        "outputId": "747d326c-97ba-4b03-ac6f-aec89fa5d7bc"
      },
      "execution_count": 3,
      "outputs": [
        {
          "output_type": "stream",
          "name": "stderr",
          "text": [
            "<ipython-input-3-fcdcd190a0da>:8: DtypeWarning: Columns (6,77) have mixed types. Specify dtype option on import or set low_memory=False.\n",
            "  data = pd.read_csv('data_kesehatan-Mental-SRQ-2023--Filtered.csv')\n"
          ]
        }
      ]
    },
    {
      "cell_type": "code",
      "source": [
        "ord_umur = CategoricalDtype(categories=['15 - 24','25 - 34', '35 - 44', '45 - 54', '55 - 64', '≥ 65'], ordered=True)\n",
        "ord_IMT = CategoricalDtype(categories=['Kurus', 'Sangat Kurus', 'Normal', 'Gemuk', 'Obesitas'], ordered=True)\n",
        "data['Kelompok Umur'] = data['Kelompok Umur'].astype(ord_umur)\n",
        "data['IMT'] = data['IMT'].astype(ord_IMT)\n",
        "data['Kelompok Umur'] = data['Kelompok Umur'].cat.codes\n",
        "data['IMT'] = data['IMT'].cat.codes"
      ],
      "metadata": {
        "id": "gl1LfHfMOCp3"
      },
      "execution_count": 4,
      "outputs": []
    },
    {
      "cell_type": "markdown",
      "source": [
        "## K-Means dengan Parallel Programming dan perbedaannya dengan Sequential K-Means"
      ],
      "metadata": {
        "id": "rnggaFSlcPKJ"
      }
    },
    {
      "cell_type": "code",
      "source": [
        "import pandas as pd\n",
        "import numpy as np\n",
        "from math import sqrt\n",
        "from timeit import default_timer as timer\n",
        "import matplotlib.pyplot as plt\n",
        "\n",
        "# Randomly generating initial centroids\n",
        "def choose_centroids(n,k):\n",
        "    import random as rd\n",
        "    centroids_idx = rd.sample(range(n),k)\n",
        "    centroids_idx.sort()\n",
        "    return centroids_idx\n",
        "\n",
        "def distance(centroid,datapoint):\n",
        "    return sqrt(np.square(centroid-datapoint).sum())\n",
        "\n",
        "def Kmeans(df,cidx,n,k):\n",
        "    iterations = 0\n",
        "    time = []\n",
        "    centroids = df.loc[cidx]\n",
        "    clusters = np.zeros(n,dtype=int)\n",
        "\n",
        "    while iterations < 100:\n",
        "        startit = timer()\n",
        "\n",
        "        iterations += 1\n",
        "        old_clusters = clusters.copy()\n",
        "\n",
        "        #Part to be Parallelized\n",
        "        for i in range(n):\n",
        "            dist = []\n",
        "            for j in range(k):\n",
        "                dist.append(distance(centroids.loc[centroids_idx[j]],df.loc[i]))\n",
        "            clusters[i] = dist.index(min(dist))\n",
        "        #Parallellizing ends here\n",
        "        endit = timer() - startit\n",
        "        time.append(endit)\n",
        "\n",
        "        if np.array_equal(clusters,old_clusters):\n",
        "            break\n",
        "\n",
        "        # update Cluster centroids\n",
        "        for j in range(k):\n",
        "            centroids.loc[centroids_idx[j]] = df.loc[clusters == j].mean(axis=0)\n",
        "\n",
        "    return np.mean(np.asarray(time)),clusters\n",
        "\n",
        "import multiprocessing as mp\n",
        "from scipy.spatial.distance import cdist\n",
        "from itertools import repeat\n",
        "\n",
        "def find_cluster(data,centroids):\n",
        "    distances = cdist(data,centroids,'euclidean')\n",
        "    return np.argmin(distances, axis = 1)\n",
        "\n",
        "def mpKmeans(df,cidx,n,k,cpus):\n",
        "    iterations = 0\n",
        "    time = []\n",
        "    centroids = df[cidx]\n",
        "    clusters = np.zeros(n,dtype=int)\n",
        "\n",
        "    split_data = np.array_split(df, cpus)\n",
        "\n",
        "    while iterations < 100:\n",
        "        startit = timer()\n",
        "\n",
        "        iterations += 1\n",
        "        old_clusters = clusters.copy()\n",
        "\n",
        "        arg = zip(split_data, repeat(centroids))\n",
        "\n",
        "        pool = mp.Pool(processes=cpus)\n",
        "        split_clusters = pool.starmap(find_cluster,arg)\n",
        "        pool.close()\n",
        "        pool.join()\n",
        "\n",
        "        clusters = np.concatenate(split_clusters)\n",
        "\n",
        "        endit = timer() - startit\n",
        "        time.append(endit)\n",
        "\n",
        "        if np.array_equal(clusters,old_clusters):\n",
        "            break\n",
        "\n",
        "        # update Cluster centroids\n",
        "        for j in range(k):\n",
        "            centroids[j] = df[clusters == j].mean(axis=0)\n",
        "\n",
        "    return np.mean(np.asarray(time)),clusters\n",
        "\n",
        "if __name__ == \"__main__\":\n",
        "    # df = pd.read_csv('data_kesehatan-Mental-SRQ-2023--Filtered.csv', sep=',')\n",
        "    df = data[[ 'Kelompok Umur', 'IMT']]\n",
        "    # df = pd.read_csv('data\\\\winequality-white.csv', sep=';')\n",
        "    # df = df[df.columns[:8]]\n",
        "\n",
        "    # Parameters for Kmeans\n",
        "    k = [3, 4]  # Number of Clusters\n",
        "    n = df.shape[0]  # Number of datapoints\n",
        "    att = df.shape[1]  # Number of Attributes\n",
        "\n",
        "    print(\"Number of Datapoints =\", n)\n",
        "    print(\"Number of Attributes =\", att)\n",
        "\n",
        "    # time taken to run different algorithms\n",
        "    time_kmeans = np.zeros(len(k), dtype=float)\n",
        "    time_mp = np.zeros(len(k), dtype=float)\n",
        "\n",
        "    # iteration count in different algorithms\n",
        "    iter_kmeans = np.zeros(len(k), dtype=float)\n",
        "    iter_mp = np.zeros(len(k), dtype=float)\n",
        "\n",
        "    # Differences in the results\n",
        "    diff_mp_km = np.zeros(len(k), dtype=int)\n",
        "\n",
        "    # Initial centroids\n",
        "    for i in range(len(k)):\n",
        "        centroids_idx = choose_centroids(n, k[i])\n",
        "        print(\"Number of Clusters to be formed:\", k[i])\n",
        "        print(\"\\tTime\\tIterations\")\n",
        "\n",
        "        # running normal kmeans algorithms\n",
        "        start_k = timer()\n",
        "        iter_kmeans[i], clusters_kmeans = Kmeans(df, centroids_idx, n, k[i])\n",
        "        time_kmeans[i] = timer() - start_k\n",
        "        print('Kmeans:\\t%4.4f\\t%4.4f' % (time_kmeans[i], iter_kmeans[i]))\n",
        "\n",
        "        # running kmeans algorithm with parallel computing using Multiprocessing module\n",
        "        start_m = timer()\n",
        "        cpus = mp.cpu_count()\n",
        "        iter_mp[i], clusters_mp = mpKmeans(df.values, centroids_idx, n, k[i], cpus)\n",
        "        time_mp[i] = timer() - start_m\n",
        "        print('MProcs:\\t%4.4f\\t%4.4f' % (time_mp[i], iter_mp[i]))\n",
        "\n",
        "        # Calculating difference between results\n",
        "        diff_mp_km[i] = sum(clusters_kmeans != clusters_mp)\n",
        "\n",
        "        if diff_mp_km[i] != 0:\n",
        "            print(\"Cluster Differences: Kmeans Vs Multiprocessing :\", diff_mp_km[i])\n",
        "\n",
        "    # Plotting Total Execution Time\n",
        "    plt.plot(k, time_kmeans, 'r-', k, time_mp, 'g-')\n",
        "    plt.title(\"Perbandingan waktu untuk data berukuran 289801 x 2\")\n",
        "    plt.xlabel(\"Number of Clusters\")\n",
        "    plt.ylabel(\"Time Taken to Run Clustering Algorithm\")\n",
        "    plt.legend((\"Sequential K-Means\", \"Parallel K-Means\"), loc='best')\n",
        "    plt.show()\n",
        "\n",
        "    # Plotting Mean Iteration Time\n",
        "    plt.plot(k, iter_kmeans, 'r-', k, iter_mp, 'g-')\n",
        "    plt.title(\"Perbandingan rata-rata waktu untuk menjalankan 1 iterasi Kmeans clustering\")\n",
        "    plt.xlabel(\"Number of Clusters\")\n",
        "    plt.ylabel(\"Mean Time Taken to Run 1 Iteration of KMeans Clustering Algorithm\")\n",
        "    plt.legend((\"Sequential K-Means\", \"Parallel K-Means\"), loc='best')\n",
        "    plt.show()\n"
      ],
      "metadata": {
        "id": "SkNWoC9yWhkL",
        "colab": {
          "base_uri": "https://localhost:8080/"
        },
        "outputId": "f95f7c44-710d-4daf-a20a-81fb5f07b714"
      },
      "execution_count": null,
      "outputs": [
        {
          "metadata": {
            "tags": null
          },
          "name": "stdout",
          "output_type": "stream",
          "text": [
            "Number of Datapoints = 289801\n",
            "Number of Attributes = 2\n",
            "Number of Clusters to be formed: 3\n",
            "\tTime\tIterations\n",
            "Kmeans:\t1186.0813\t395.3472\n",
            "MProcs:\t0.9042\t0.1989\n",
            "Cluster Differences: Kmeans Vs Multiprocessing : 88533\n",
            "Number of Clusters to be formed: 4\n",
            "\tTime\tIterations\n"
          ]
        }
      ]
    },
    {
      "cell_type": "markdown",
      "source": [
        "Untuk data berukuran 289801 x 2, berikut perbedaan Algoritma K-means dengan parallel programming dan tanpa parallel programming:\n",
        "\n",
        "* terlihat untuk k = 3 waktu iterasi yang dibutuhkan pada  kedua algoritma memiliki perbedaan yang cukup jauh. Untuk Kmeans dengan parallel memerlukan waktu 0.5 detik sedangkan k-means tanpa parallel memerlukan waktu 1 menit lebih untuk dijalankan. Namun terdapat perbedaan cluster sebanyak 169884 baris\n",
        "* untuk k = 4 waktu iterasi yang dibutuhkan pada kedua algoritma memiliki perbedaan yang cukup jauh. Untuk Kmeans dengan parallel memerlukan waktu 0.64 detik sedangkan k-means tanpa parallel memerlukan waktu 1 menit lebih untuk dijalankan. Serta terdapat perbedaan cluster sebanyak 135846 baris.\n",
        "Dapat disimpulkan bahwa parallel programming membantu mempercepat waktu untuk menjalankan Algoritma kmeans pada data berukuran besar."
      ],
      "metadata": {
        "id": "Dy90yQ08_stA"
      }
    }
  ]
}